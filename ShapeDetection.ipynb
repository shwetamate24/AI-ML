{
  "nbformat": 4,
  "nbformat_minor": 0,
  "metadata": {
    "colab": {
      "provenance": [],
      "mount_file_id": "172auMrUr6Xm2CiMJnAMsu3GF2_MsYDbL",
      "authorship_tag": "ABX9TyPH82tIYl1OC0OfZJJ6VWZE",
      "include_colab_link": true
    },
    "kernelspec": {
      "name": "python3",
      "display_name": "Python 3"
    },
    "language_info": {
      "name": "python"
    }
  },
  "cells": [
    {
      "cell_type": "markdown",
      "metadata": {
        "id": "view-in-github",
        "colab_type": "text"
      },
      "source": [
        "<a href=\"https://colab.research.google.com/github/shwetamate24/AI-ML/blob/main/ShapeDetection.ipynb\" target=\"_parent\"><img src=\"https://colab.research.google.com/assets/colab-badge.svg\" alt=\"Open In Colab\"/></a>"
      ]
    },
    {
      "cell_type": "code",
      "execution_count": null,
      "metadata": {
        "colab": {
          "base_uri": "https://localhost:8080/",
          "height": 501
        },
        "id": "BftK24tW16mB",
        "outputId": "bc8ca6a8-e836-41ef-c256-0e90c0c5ba9f"
      },
      "outputs": [
        {
          "output_type": "display_data",
          "data": {
            "text/plain": [
              "<PIL.Image.Image image mode=RGB size=412x484 at 0x7FDD367F79D0>"
            ],
            "image/png": "[encoded data removed]"
          },
          "metadata": {}
        }
      ],
      "source": [
        "import cv2\n",
        "import numpy as np\n",
        "\n",
        "# Load the image\n",
        "img = cv2.imread('/content/s2.png')\n",
        "\n",
        "# Convert to grayscale\n",
        "gray = cv2.cvtColor(img, cv2.COLOR_BGR2GRAY)\n",
        "\n",
        "# Apply thresholding\n",
        "thresh = cv2.threshold(gray, 127, 255, cv2.THRESH_BINARY)[1]\n",
        "\n",
        "# Find contours\n",
        "contours, hierarchy = cv2.findContours(thresh, cv2.RETR_EXTERNAL, cv2.CHAIN_APPROX_SIMPLE)\n",
        "\n",
        "# Loop through each contour and detect the shape\n",
        "for contour in contours:\n",
        "    # Get the area and perimeter of the contour\n",
        "    area = cv2.contourArea(contour)\n",
        "    perimeter = cv2.arcLength(contour, True)\n",
        "\n",
        "    # Approximate the contour to a polygon\n",
        "    approx = cv2.approxPolyDP(contour, 0.01 * perimeter, True)\n",
        "\n",
        "    # Determine the shape based on the number of vertices\n",
        "    if len(approx) == 3:\n",
        "        shape = \"triangle\"\n",
        "    elif len(approx) == 4:\n",
        "        # Check if it's a square or rectangle based on aspect ratio\n",
        "        x, y, w, h = cv2.boundingRect(contour)\n",
        "        aspect_ratio = float(w) / h\n",
        "        if aspect_ratio >= 0.95 and aspect_ratio <= 1.05:\n",
        "            shape = \"square\"\n",
        "        else:\n",
        "            shape = \"rectangle\"\n",
        "    elif len(approx) == 5:\n",
        "        shape = \"pentagon\"\n",
        "    elif len(approx) == 6:\n",
        "        shape = \"hexagon\"\n",
        "    else:\n",
        "        shape = \"circle\"\n",
        "\n",
        "    # Draw the detected shape\n",
        "    cv2.drawContours(img, [contour], 0, (0, 255, 0), 2)\n",
        "    cv2.putText(img, shape, (contour[0][0][0], contour[0][0][1]), cv2.FONT_HERSHEY_SIMPLEX, 0.5, (255, 0, 0), 2)\n",
        "\n",
        "# Display the image with detected shapes\n",
        "from google.colab.patches import cv2_imshow\n",
        "cv2_imshow(img)\n",
        "cv2.waitKey(0)\n",
        "cv2.destroyAllWindows()\n"
      ]
    },
    {
      "cell_type": "code",
      "source": [],
      "metadata": {
        "id": "5f_wdBSQNd47"
      },
      "execution_count": null,
      "outputs": []
    }
  ]
}